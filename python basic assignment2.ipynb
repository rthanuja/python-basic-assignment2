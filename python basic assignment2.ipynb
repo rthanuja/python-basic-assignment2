{
 "cells": [
  {
   "cell_type": "raw",
   "id": "e22bc0cc",
   "metadata": {},
   "source": [
    "#1.What are the two values of the Boolean data type? How do you write them?\n",
    "The two values of the Boolean data type are True(1) and False(0).\n",
    "True, False"
   ]
  },
  {
   "cell_type": "raw",
   "id": "73f5e3f4",
   "metadata": {},
   "source": [
    "#2. What are the three different types of Boolean operators\n",
    "and - returns True only if the operands on both sides of \"and\" are true\n",
    "or  - returns True only if atleast one of the operands on both sides of \"or\" is true\n",
    "not - negation operator returns True if False and vice-versa"
   ]
  },
  {
   "cell_type": "code",
   "execution_count": 1,
   "id": "6bc6f2fb",
   "metadata": {},
   "outputs": [
    {
     "name": "stdout",
     "output_type": "stream",
     "text": [
      "Truth Table of and [[True, True, True], [True, False, False], [False, True, False], [False, False, False]]\n",
      "Truth Table of or [[True, True, True], [True, False, True], [False, True, True], [False, False, False]]\n",
      "Truth Table of not [[True, False], [False, True]]\n"
     ]
    }
   ],
   "source": [
    "#3. Make a list of each Boolean operators truth tables (i.e. every possible combination of Boolean\n",
    "#values for the operator and what it evaluate ).\n",
    "def truthtable(a):\n",
    "    l=[]\n",
    "    for i in [True,False]:\n",
    "        if a==\"not\":\n",
    "            l.append([i,not i])\n",
    "            continue\n",
    "        for j in [True,False]:\n",
    "            if a==\"and\":\n",
    "                l.append([i,j,i and j])\n",
    "            elif a==\"or\":\n",
    "                l.append([i,j,i or j])\n",
    "    return l\n",
    "for i in [\"and\",\"or\",\"not\"]:\n",
    "    l=truthtable(i)\n",
    "    print(\"Truth Table of \"+i,l)"
   ]
  },
  {
   "cell_type": "raw",
   "id": "78bb312a",
   "metadata": {},
   "source": [
    "#4. What are the values of the following expressions?\n",
    "and -if both conditions are true \n",
    "or -if atleast one of the condition is true\n",
    "(5> 4) and (3 == 5).................False\n",
    " not (5> 4).........................False\n",
    "(5 > 4) or (3 == 5).................True\n",
    "not ((5 > 4) or (3 == 5))...........False\n",
    "(True and True) and (True == False).False\n",
    "(not False) or (not True)...........True"
   ]
  },
  {
   "cell_type": "raw",
   "id": "14876ae1",
   "metadata": {},
   "source": [
    "#5. What are the six comparison operators?\n",
    "== (equal to) checks if both operands are equal on either sides and returns True if equal\n",
    "!= (not equal to) checks if both operands are not equal and returns True if not equal\n",
    ">  (greater than) checks if first operand is greater than second and returns True if greater\n",
    "<  (less than)checks if first operand is lesser than second and returns True if lesser\n",
    ">= (greater than or equal to) checks if first operand is greater than or equal to second and returns True if satisfied\n",
    "<= (less than or equal to) checks if first operand is lesser than or equal to second and returns True if satisfied"
   ]
  },
  {
   "cell_type": "code",
   "execution_count": null,
   "id": "b58bf0d3",
   "metadata": {},
   "outputs": [],
   "source": [
    "#6. How do you tell the difference between the equal to and assignment operators?Describe a\n",
    "#condition and when you would use one.\n",
    "Equal to is a comparison operator(==) is used to compare two values whereas Assignment operator(=) is used \n",
    "to assign a value to a variable."
   ]
  },
  {
   "cell_type": "raw",
   "id": "0823aa7f",
   "metadata": {},
   "source": [
    "#7. Identify the three blocks in this code:\n",
    "spam = 0\n",
    "#first block\n",
    "if spam == 10:\n",
    "    print('eggs')\n",
    "#second block\n",
    "if spam> 5:\n",
    "    print('bacon')\n",
    "#third block\n",
    "else:\n",
    "    print('ham')\n",
    "    print('spam')\n",
    "    print('spam')\n"
   ]
  },
  {
   "cell_type": "code",
   "execution_count": 2,
   "id": "b6d67ce7",
   "metadata": {},
   "outputs": [
    {
     "name": "stdout",
     "output_type": "stream",
     "text": [
      "3\n",
      "Greetings!\n"
     ]
    }
   ],
   "source": [
    "#8. Write code that prints Hello if 1 is stored in spam, prints Howdy if 2 is stored in spam, and prints\n",
    "#Greetings! if anything else is stored in spam.\n",
    "spam=int(input())\n",
    "if spam==1:\n",
    "    print(\"Hello\")\n",
    "elif spam==2:\n",
    "    print(\"Howdy\")\n",
    "else:\n",
    "    print(\"Greetings!\")"
   ]
  },
  {
   "cell_type": "raw",
   "id": "31f64777",
   "metadata": {},
   "source": [
    "#9.If your programme is stuck in an endless loop, what keys you’ll press?\n",
    "ctrl+C"
   ]
  },
  {
   "cell_type": "raw",
   "id": "7f88653a",
   "metadata": {},
   "source": [
    "#10. How can you tell the difference between break and continue?\n",
    "\n",
    "break statement is used to terminate the loop or statement in which it is present whereas continue statement forces to \n",
    "execute the next iteration of the loop."
   ]
  },
  {
   "cell_type": "raw",
   "id": "40e4fa0e",
   "metadata": {},
   "source": [
    "#11. In a for loop, what is the difference between range(10), range(0, 10), and range(0, 10, 1)?\n",
    "All the three functions are same.\n",
    "range function by default takes initial value as 0 and step size as 1"
   ]
  },
  {
   "cell_type": "code",
   "execution_count": 3,
   "id": "79e7099a",
   "metadata": {},
   "outputs": [
    {
     "name": "stdout",
     "output_type": "stream",
     "text": [
      "1 2 3 4 5 6 7 8 9 10 \n",
      "1 2 3 4 5 6 7 8 9 10 "
     ]
    }
   ],
   "source": [
    "#12. Write a short program that prints the numbers 1 to 10 using a for loop. Then write an equivalent\n",
    "#program that prints the numbers 1 to 10 using a while loop.\n",
    "for i in range(1,11):\n",
    "    print(i,end=\" \")\n",
    "print()\n",
    "i=1\n",
    "while(i<=10):\n",
    "    print(i,end=\" \")\n",
    "    i+=1"
   ]
  },
  {
   "cell_type": "raw",
   "id": "11eb6d74",
   "metadata": {},
   "source": [
    "#13. If you had a function named bacon() inside a module named spam, how would you call it after importing spam?\n",
    "import spam\n",
    "spam.bacon()"
   ]
  }
 ],
 "metadata": {
  "kernelspec": {
   "display_name": "Python 3 (ipykernel)",
   "language": "python",
   "name": "python3"
  },
  "language_info": {
   "codemirror_mode": {
    "name": "ipython",
    "version": 3
   },
   "file_extension": ".py",
   "mimetype": "text/x-python",
   "name": "python",
   "nbconvert_exporter": "python",
   "pygments_lexer": "ipython3",
   "version": "3.10.9"
  }
 },
 "nbformat": 4,
 "nbformat_minor": 5
}
